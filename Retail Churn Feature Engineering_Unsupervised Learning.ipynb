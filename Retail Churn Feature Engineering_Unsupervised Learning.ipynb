{
 "cells": [
  {
   "cell_type": "markdown",
   "metadata": {},
   "source": [
    "## Retail Churn Feature Engineering/Unsupervised Learning RFM Analysis (Recency, Frequency, Monetary)"
   ]
  },
  {
   "cell_type": "code",
   "execution_count": 73,
   "metadata": {},
   "outputs": [
    {
     "data": {
      "text/html": [
       "<div>\n",
       "<style scoped>\n",
       "    .dataframe tbody tr th:only-of-type {\n",
       "        vertical-align: middle;\n",
       "    }\n",
       "\n",
       "    .dataframe tbody tr th {\n",
       "        vertical-align: top;\n",
       "    }\n",
       "\n",
       "    .dataframe thead th {\n",
       "        text-align: right;\n",
       "    }\n",
       "</style>\n",
       "<table border=\"1\" class=\"dataframe\">\n",
       "  <thead>\n",
       "    <tr style=\"text-align: right;\">\n",
       "      <th></th>\n",
       "      <th>user_id</th>\n",
       "      <th>gender</th>\n",
       "      <th>address</th>\n",
       "      <th>store_id</th>\n",
       "      <th>trans_id</th>\n",
       "      <th>timestamp</th>\n",
       "      <th>item_id</th>\n",
       "      <th>quantity</th>\n",
       "      <th>dollar</th>\n",
       "    </tr>\n",
       "  </thead>\n",
       "  <tbody>\n",
       "    <tr>\n",
       "      <th>0</th>\n",
       "      <td>101981</td>\n",
       "      <td>F</td>\n",
       "      <td>E</td>\n",
       "      <td>2860</td>\n",
       "      <td>818463</td>\n",
       "      <td>11/1/2000 0:00</td>\n",
       "      <td>4.710000e+12</td>\n",
       "      <td>1</td>\n",
       "      <td>37</td>\n",
       "    </tr>\n",
       "    <tr>\n",
       "      <th>1</th>\n",
       "      <td>101981</td>\n",
       "      <td>F</td>\n",
       "      <td>E</td>\n",
       "      <td>2861</td>\n",
       "      <td>818464</td>\n",
       "      <td>11/1/2000 0:00</td>\n",
       "      <td>4.710000e+12</td>\n",
       "      <td>1</td>\n",
       "      <td>17</td>\n",
       "    </tr>\n",
       "    <tr>\n",
       "      <th>2</th>\n",
       "      <td>101981</td>\n",
       "      <td>F</td>\n",
       "      <td>E</td>\n",
       "      <td>2862</td>\n",
       "      <td>818465</td>\n",
       "      <td>11/1/2000 0:00</td>\n",
       "      <td>4.710000e+12</td>\n",
       "      <td>1</td>\n",
       "      <td>23</td>\n",
       "    </tr>\n",
       "    <tr>\n",
       "      <th>3</th>\n",
       "      <td>101981</td>\n",
       "      <td>F</td>\n",
       "      <td>E</td>\n",
       "      <td>2863</td>\n",
       "      <td>818466</td>\n",
       "      <td>11/1/2000 0:00</td>\n",
       "      <td>4.710000e+12</td>\n",
       "      <td>1</td>\n",
       "      <td>41</td>\n",
       "    </tr>\n",
       "    <tr>\n",
       "      <th>4</th>\n",
       "      <td>101981</td>\n",
       "      <td>F</td>\n",
       "      <td>E</td>\n",
       "      <td>2864</td>\n",
       "      <td>818467</td>\n",
       "      <td>11/1/2000 0:00</td>\n",
       "      <td>4.710000e+12</td>\n",
       "      <td>8</td>\n",
       "      <td>288</td>\n",
       "    </tr>\n",
       "  </tbody>\n",
       "</table>\n",
       "</div>"
      ],
      "text/plain": [
       "   user_id gender address  store_id  trans_id       timestamp       item_id  \\\n",
       "0   101981      F       E      2860    818463  11/1/2000 0:00  4.710000e+12   \n",
       "1   101981      F       E      2861    818464  11/1/2000 0:00  4.710000e+12   \n",
       "2   101981      F       E      2862    818465  11/1/2000 0:00  4.710000e+12   \n",
       "3   101981      F       E      2863    818466  11/1/2000 0:00  4.710000e+12   \n",
       "4   101981      F       E      2864    818467  11/1/2000 0:00  4.710000e+12   \n",
       "\n",
       "   quantity  dollar  \n",
       "0         1      37  \n",
       "1         1      17  \n",
       "2         1      23  \n",
       "3         1      41  \n",
       "4         8     288  "
      ]
     },
     "execution_count": 73,
     "metadata": {},
     "output_type": "execute_result"
    }
   ],
   "source": [
    "import pandas as pd\n",
    "import seaborn as sns\n",
    "import matplotlib.pyplot as plt\n",
    "from sklearn.cluster import KMeans\n",
    "from sklearn.preprocessing import StandardScaler\n",
    "import numpy as np\n",
    "np.set_printoptions(suppress=True)\n",
    "\n",
    "# Column names that we'll use to read in the data from CSV\n",
    "col_names = ['user_id', 'gender', 'address', 'store_id', 'trans_id', 'timestamp', 'item_id', 'quantity', 'dollar']\n",
    "\n",
    "# Read data in from CSV as a DataFrame object\n",
    "churn = pd.read_csv(\"retail-churn.csv\", sep = \",\", skiprows = 1, names = col_names)\n",
    "\n",
    "# Show first 5 rows of DataFrame\n",
    "churn.head()"
   ]
  },
  {
   "cell_type": "code",
   "execution_count": 74,
   "metadata": {},
   "outputs": [],
   "source": [
    "# Convert timestamp to datetime and overwrite previous column \n",
    "churn['timestamp'] = pd.to_datetime(churn['timestamp'])\n",
    "\n",
    "# Extract date from timestamp column and store in new column churn['date']\n",
    "churn['date'] = pd.to_datetime(pd.DatetimeIndex(churn['timestamp'], dtype = 'datetime64[ns, UTC]').date)\n",
    "\n",
    "# Group data by unique rows of user_id and date and obtain quantity and dollar, reset index of aggregated DataFrame\n",
    "churn_agg = churn.groupby(['user_id', 'date']).agg({'dollar': 'sum', 'quantity': 'sum'}).reset_index()\n",
    "\n",
    "# Calling rolling function per user_id for dollar, quantity making new DataFrames per feature\n",
    "dollar_roll_sum_7D = churn_agg.groupby('user_id').rolling(window = '7D', on = 'date')['dollar'].sum().reset_index()\n",
    "\n",
    "quantity_roll_sum_7D = churn_agg.groupby('user_id').rolling(window = '7D', on = 'date')['quantity'].sum().reset_index()\n",
    "\n",
    "# Make new feature for last_visit_ndays per user_id over the course of a week\n",
    "last_visit_ndays = churn_agg.groupby('user_id')['date'].diff(periods = 1)\n",
    "\n",
    "# Merge quantity, dollar features from above into a new DataFrame on user_id and date\n",
    "churn_roll = dollar_roll_sum_7D.merge(quantity_roll_sum_7D, on = ['user_id', 'date'])\n",
    "\n",
    "# Create new column in churn_roll DataFrame for last_visit_ndays feature\n",
    "churn_roll['last_visit_ndays'] = last_visit_ndays\n",
    "\n",
    "# Rename columns for dollar and quantity to rolling_sum feature\n",
    "churn_roll.rename(columns = {'dollar': 'dollar_roll_sum_7D', 'quantity': 'quantity_roll_sum_7D'}, inplace=True)\n",
    "\n",
    "# Replace all NaT values in last_visit_ndays column as 1000 days (arbitrary value)\n",
    "churn_roll['last_visit_ndays'].fillna(pd.Timedelta('1000 days'), inplace=True)\n",
    "\n",
    "# Merge churn_agg and churn_roll on user_id, date to ensure calculations for rolling sum is calculated correctly for 7day window\n",
    "churn_merged = churn_agg.merge(churn_roll, on = ['user_id', 'date'])\n",
    "\n",
    "# Convert last_visit_ndays column to int64 # of days\n",
    "churn_merged['last_visit_ndays'] = churn_merged['last_visit_ndays'].dt.days"
   ]
  },
  {
   "cell_type": "code",
   "execution_count": 75,
   "metadata": {},
   "outputs": [
    {
     "name": "stderr",
     "output_type": "stream",
     "text": [
      "c:\\Users\\james\\anaconda3\\envs\\data\\lib\\site-packages\\sklearn\\cluster\\_kmeans.py:1412: FutureWarning: The default value of `n_init` will change from 10 to 'auto' in 1.4. Set the value of `n_init` explicitly to suppress the warning\n",
      "  super()._check_params_vs_input(X, default_n_init=10)\n"
     ]
    }
   ],
   "source": [
    "# Set number of clusters to 5\n",
    "n_clusters = 5 \n",
    "\n",
    "# Designate which features to standardize/fit the model\n",
    "which_cols = ['dollar_roll_sum_7D', 'quantity_roll_sum_7D', 'last_visit_ndays']\n",
    "\n",
    "# Z-normalize the RFM features \n",
    "churn_merged_rescaled = churn_merged[which_cols].apply(lambda x: (x - x.mean()) / x.std(), axis = 0)\n",
    "\n",
    "# Select data of rescaled features to fit our kmeans\n",
    "X = churn_merged_rescaled[which_cols]\n",
    "\n",
    "# Set number of clusters and randomness of clusters for KMeans object \n",
    "kmeans = KMeans(n_clusters = n_clusters, random_state = 0)\n",
    "\n",
    "# Fit\n",
    "kmeans.fit(X)\n",
    "\n",
    "# Predict clusters from kmeans and make new column in scaled DataFrame\n",
    "churn_merged_rescaled['cluster'] = kmeans.predict(X)"
   ]
  },
  {
   "cell_type": "code",
   "execution_count": 76,
   "metadata": {},
   "outputs": [
    {
     "data": {
      "text/html": [
       "<div>\n",
       "<style scoped>\n",
       "    .dataframe tbody tr th:only-of-type {\n",
       "        vertical-align: middle;\n",
       "    }\n",
       "\n",
       "    .dataframe tbody tr th {\n",
       "        vertical-align: top;\n",
       "    }\n",
       "\n",
       "    .dataframe thead th {\n",
       "        text-align: right;\n",
       "    }\n",
       "</style>\n",
       "<table border=\"1\" class=\"dataframe\">\n",
       "  <thead>\n",
       "    <tr style=\"text-align: right;\">\n",
       "      <th></th>\n",
       "      <th>dollar_roll_sum_7D</th>\n",
       "      <th>quantity_roll_sum_7D</th>\n",
       "      <th>last_visit_ndays</th>\n",
       "      <th>cluster</th>\n",
       "    </tr>\n",
       "  </thead>\n",
       "  <tbody>\n",
       "    <tr>\n",
       "      <th>0</th>\n",
       "      <td>-0.391981</td>\n",
       "      <td>-0.369906</td>\n",
       "      <td>1.643862</td>\n",
       "      <td>1</td>\n",
       "    </tr>\n",
       "    <tr>\n",
       "      <th>1</th>\n",
       "      <td>-0.325514</td>\n",
       "      <td>-0.461485</td>\n",
       "      <td>-0.611911</td>\n",
       "      <td>0</td>\n",
       "    </tr>\n",
       "    <tr>\n",
       "      <th>2</th>\n",
       "      <td>-0.024964</td>\n",
       "      <td>-0.186749</td>\n",
       "      <td>-0.641652</td>\n",
       "      <td>0</td>\n",
       "    </tr>\n",
       "    <tr>\n",
       "      <th>3</th>\n",
       "      <td>-0.291798</td>\n",
       "      <td>-0.186749</td>\n",
       "      <td>-0.552428</td>\n",
       "      <td>0</td>\n",
       "    </tr>\n",
       "    <tr>\n",
       "      <th>4</th>\n",
       "      <td>-0.240743</td>\n",
       "      <td>-0.369906</td>\n",
       "      <td>1.643862</td>\n",
       "      <td>1</td>\n",
       "    </tr>\n",
       "    <tr>\n",
       "      <th>...</th>\n",
       "      <td>...</td>\n",
       "      <td>...</td>\n",
       "      <td>...</td>\n",
       "      <td>...</td>\n",
       "    </tr>\n",
       "    <tr>\n",
       "      <th>37053</th>\n",
       "      <td>-0.412692</td>\n",
       "      <td>-0.461485</td>\n",
       "      <td>1.643862</td>\n",
       "      <td>1</td>\n",
       "    </tr>\n",
       "    <tr>\n",
       "      <th>37054</th>\n",
       "      <td>1.123769</td>\n",
       "      <td>0.454301</td>\n",
       "      <td>1.643862</td>\n",
       "      <td>1</td>\n",
       "    </tr>\n",
       "    <tr>\n",
       "      <th>37055</th>\n",
       "      <td>1.810602</td>\n",
       "      <td>1.507455</td>\n",
       "      <td>1.643862</td>\n",
       "      <td>2</td>\n",
       "    </tr>\n",
       "    <tr>\n",
       "      <th>37056</th>\n",
       "      <td>0.227420</td>\n",
       "      <td>0.087987</td>\n",
       "      <td>1.643862</td>\n",
       "      <td>1</td>\n",
       "    </tr>\n",
       "    <tr>\n",
       "      <th>37057</th>\n",
       "      <td>2.296104</td>\n",
       "      <td>2.606398</td>\n",
       "      <td>1.643862</td>\n",
       "      <td>2</td>\n",
       "    </tr>\n",
       "  </tbody>\n",
       "</table>\n",
       "<p>37058 rows × 4 columns</p>\n",
       "</div>"
      ],
      "text/plain": [
       "       dollar_roll_sum_7D  quantity_roll_sum_7D  last_visit_ndays  cluster\n",
       "0               -0.391981             -0.369906          1.643862        1\n",
       "1               -0.325514             -0.461485         -0.611911        0\n",
       "2               -0.024964             -0.186749         -0.641652        0\n",
       "3               -0.291798             -0.186749         -0.552428        0\n",
       "4               -0.240743             -0.369906          1.643862        1\n",
       "...                   ...                   ...               ...      ...\n",
       "37053           -0.412692             -0.461485          1.643862        1\n",
       "37054            1.123769              0.454301          1.643862        1\n",
       "37055            1.810602              1.507455          1.643862        2\n",
       "37056            0.227420              0.087987          1.643862        1\n",
       "37057            2.296104              2.606398          1.643862        2\n",
       "\n",
       "[37058 rows x 4 columns]"
      ]
     },
     "execution_count": 76,
     "metadata": {},
     "output_type": "execute_result"
    }
   ],
   "source": [
    "churn_merged_rescaled"
   ]
  },
  {
   "cell_type": "code",
   "execution_count": 77,
   "metadata": {},
   "outputs": [
    {
     "data": {
      "text/plain": [
       "array([[  829.29879879,     9.88834203,    16.48198344],\n",
       "       [  936.04426308,    10.2280262 ,   999.99030522],\n",
       "       [ 4421.55455018,    39.26854907,    74.12779755],\n",
       "       [35456.92420516,   165.98039309,    56.96794136],\n",
       "       [19804.14943745,   972.787051  ,     3.6037491 ]])"
      ]
     },
     "execution_count": 77,
     "metadata": {},
     "output_type": "execute_result"
    }
   ],
   "source": [
    "# Instantiate the Standard Scaler object\n",
    "zscaler = StandardScaler()\n",
    "\n",
    "# Fit the zscaler to the non-scaled RFM feature data\n",
    "zscaler.fit(churn_merged[which_cols])\n",
    "\n",
    "# Revert cluster centroids to original scale \n",
    "zscaler.inverse_transform(kmeans.cluster_centers_)"
   ]
  },
  {
   "cell_type": "code",
   "execution_count": 78,
   "metadata": {},
   "outputs": [
    {
     "name": "stdout",
     "output_type": "stream",
     "text": [
      "Computing for k=3\n"
     ]
    },
    {
     "name": "stderr",
     "output_type": "stream",
     "text": [
      "c:\\Users\\james\\anaconda3\\envs\\data\\lib\\site-packages\\sklearn\\cluster\\_kmeans.py:1412: FutureWarning: The default value of `n_init` will change from 10 to 'auto' in 1.4. Set the value of `n_init` explicitly to suppress the warning\n",
      "  super()._check_params_vs_input(X, default_n_init=10)\n"
     ]
    },
    {
     "name": "stdout",
     "output_type": "stream",
     "text": [
      "Computing for k=4\n"
     ]
    },
    {
     "name": "stderr",
     "output_type": "stream",
     "text": [
      "c:\\Users\\james\\anaconda3\\envs\\data\\lib\\site-packages\\sklearn\\cluster\\_kmeans.py:1412: FutureWarning: The default value of `n_init` will change from 10 to 'auto' in 1.4. Set the value of `n_init` explicitly to suppress the warning\n",
      "  super()._check_params_vs_input(X, default_n_init=10)\n"
     ]
    },
    {
     "name": "stdout",
     "output_type": "stream",
     "text": [
      "Computing for k=5\n"
     ]
    },
    {
     "name": "stderr",
     "output_type": "stream",
     "text": [
      "c:\\Users\\james\\anaconda3\\envs\\data\\lib\\site-packages\\sklearn\\cluster\\_kmeans.py:1412: FutureWarning: The default value of `n_init` will change from 10 to 'auto' in 1.4. Set the value of `n_init` explicitly to suppress the warning\n",
      "  super()._check_params_vs_input(X, default_n_init=10)\n"
     ]
    },
    {
     "name": "stdout",
     "output_type": "stream",
     "text": [
      "Computing for k=6\n"
     ]
    },
    {
     "name": "stderr",
     "output_type": "stream",
     "text": [
      "c:\\Users\\james\\anaconda3\\envs\\data\\lib\\site-packages\\sklearn\\cluster\\_kmeans.py:1412: FutureWarning: The default value of `n_init` will change from 10 to 'auto' in 1.4. Set the value of `n_init` explicitly to suppress the warning\n",
      "  super()._check_params_vs_input(X, default_n_init=10)\n"
     ]
    },
    {
     "name": "stdout",
     "output_type": "stream",
     "text": [
      "Computing for k=7\n"
     ]
    },
    {
     "name": "stderr",
     "output_type": "stream",
     "text": [
      "c:\\Users\\james\\anaconda3\\envs\\data\\lib\\site-packages\\sklearn\\cluster\\_kmeans.py:1412: FutureWarning: The default value of `n_init` will change from 10 to 'auto' in 1.4. Set the value of `n_init` explicitly to suppress the warning\n",
      "  super()._check_params_vs_input(X, default_n_init=10)\n"
     ]
    },
    {
     "name": "stdout",
     "output_type": "stream",
     "text": [
      "Computing for k=8\n"
     ]
    },
    {
     "name": "stderr",
     "output_type": "stream",
     "text": [
      "c:\\Users\\james\\anaconda3\\envs\\data\\lib\\site-packages\\sklearn\\cluster\\_kmeans.py:1412: FutureWarning: The default value of `n_init` will change from 10 to 'auto' in 1.4. Set the value of `n_init` explicitly to suppress the warning\n",
      "  super()._check_params_vs_input(X, default_n_init=10)\n"
     ]
    },
    {
     "name": "stdout",
     "output_type": "stream",
     "text": [
      "Computing for k=9\n"
     ]
    },
    {
     "name": "stderr",
     "output_type": "stream",
     "text": [
      "c:\\Users\\james\\anaconda3\\envs\\data\\lib\\site-packages\\sklearn\\cluster\\_kmeans.py:1412: FutureWarning: The default value of `n_init` will change from 10 to 'auto' in 1.4. Set the value of `n_init` explicitly to suppress the warning\n",
      "  super()._check_params_vs_input(X, default_n_init=10)\n"
     ]
    },
    {
     "name": "stdout",
     "output_type": "stream",
     "text": [
      "Computing for k=10\n"
     ]
    },
    {
     "name": "stderr",
     "output_type": "stream",
     "text": [
      "c:\\Users\\james\\anaconda3\\envs\\data\\lib\\site-packages\\sklearn\\cluster\\_kmeans.py:1412: FutureWarning: The default value of `n_init` will change from 10 to 'auto' in 1.4. Set the value of `n_init` explicitly to suppress the warning\n",
      "  super()._check_params_vs_input(X, default_n_init=10)\n"
     ]
    },
    {
     "name": "stdout",
     "output_type": "stream",
     "text": [
      "Computing for k=11\n"
     ]
    },
    {
     "name": "stderr",
     "output_type": "stream",
     "text": [
      "c:\\Users\\james\\anaconda3\\envs\\data\\lib\\site-packages\\sklearn\\cluster\\_kmeans.py:1412: FutureWarning: The default value of `n_init` will change from 10 to 'auto' in 1.4. Set the value of `n_init` explicitly to suppress the warning\n",
      "  super()._check_params_vs_input(X, default_n_init=10)\n"
     ]
    },
    {
     "name": "stdout",
     "output_type": "stream",
     "text": [
      "Computing for k=12\n"
     ]
    },
    {
     "name": "stderr",
     "output_type": "stream",
     "text": [
      "c:\\Users\\james\\anaconda3\\envs\\data\\lib\\site-packages\\sklearn\\cluster\\_kmeans.py:1412: FutureWarning: The default value of `n_init` will change from 10 to 'auto' in 1.4. Set the value of `n_init` explicitly to suppress the warning\n",
      "  super()._check_params_vs_input(X, default_n_init=10)\n"
     ]
    },
    {
     "name": "stdout",
     "output_type": "stream",
     "text": [
      "Computing for k=13\n"
     ]
    },
    {
     "name": "stderr",
     "output_type": "stream",
     "text": [
      "c:\\Users\\james\\anaconda3\\envs\\data\\lib\\site-packages\\sklearn\\cluster\\_kmeans.py:1412: FutureWarning: The default value of `n_init` will change from 10 to 'auto' in 1.4. Set the value of `n_init` explicitly to suppress the warning\n",
      "  super()._check_params_vs_input(X, default_n_init=10)\n"
     ]
    },
    {
     "name": "stdout",
     "output_type": "stream",
     "text": [
      "Computing for k=14\n"
     ]
    },
    {
     "name": "stderr",
     "output_type": "stream",
     "text": [
      "c:\\Users\\james\\anaconda3\\envs\\data\\lib\\site-packages\\sklearn\\cluster\\_kmeans.py:1412: FutureWarning: The default value of `n_init` will change from 10 to 'auto' in 1.4. Set the value of `n_init` explicitly to suppress the warning\n",
      "  super()._check_params_vs_input(X, default_n_init=10)\n"
     ]
    },
    {
     "name": "stdout",
     "output_type": "stream",
     "text": [
      "Computing for k=15\n"
     ]
    },
    {
     "name": "stderr",
     "output_type": "stream",
     "text": [
      "c:\\Users\\james\\anaconda3\\envs\\data\\lib\\site-packages\\sklearn\\cluster\\_kmeans.py:1412: FutureWarning: The default value of `n_init` will change from 10 to 'auto' in 1.4. Set the value of `n_init` explicitly to suppress the warning\n",
      "  super()._check_params_vs_input(X, default_n_init=10)\n"
     ]
    },
    {
     "name": "stdout",
     "output_type": "stream",
     "text": [
      "Done!\n"
     ]
    }
   ],
   "source": [
    "from sklearn.metrics.pairwise import euclidean_distances\n",
    "k_vals = range(3, 16)\n",
    "\n",
    "# Initialize list of k-means ratios. Ratio is = (avg inside distance / avg outside distance)\n",
    "k_ratios = []\n",
    "\n",
    "# Initialize list of \"Scree\" values: Avg Distances.\n",
    "k_dists = []\n",
    "\n",
    "k_dists_total = []\n",
    "\n",
    "for k in k_vals:\n",
    "    # 1. FIT MODEL FOR K\n",
    "    print('Computing for k={}'.format(k))\n",
    "    kmeans = KMeans(n_clusters = k, random_state = 0)\n",
    "    kmeans.fit(churn_merged_rescaled[which_cols])\n",
    "    \n",
    "    # 2. Get cluster predictions\n",
    "    predictions = kmeans.predict(churn_merged_rescaled[which_cols])\n",
    "    \n",
    "    # 3. Compute average inside distance to cluster centers\n",
    "    inside_distances = []\n",
    "    for center_k in range(k):\n",
    "        # Get center location\n",
    "        cluster_center = kmeans.cluster_centers_[center_k]\n",
    "        # Get set of points belonging to center.\n",
    "        points_in_cluster = churn_merged_rescaled[which_cols][predictions==center_k]\n",
    "        # Calculate euclidean distances to centers\n",
    "        array_of_distances_to_center = euclidean_distances(points_in_cluster, cluster_center.reshape(1, -1))\n",
    "        # Append to inside distances\n",
    "        inside_distances.extend(array_of_distances_to_center.tolist())\n",
    "    \n",
    "    # 4. Compute Avg Inside cluster distances:\n",
    "    avg_inside = np.mean(inside_distances)\n",
    "    total_inside = np.sum(inside_distances)\n",
    "    # 5. Computer Avg outside cluster distances:\n",
    "    center_dist_matrix = euclidean_distances(kmeans.cluster_centers_, kmeans.cluster_centers_)\n",
    "    avg_outside = np.mean(center_dist_matrix[center_dist_matrix > 0])\n",
    "    \n",
    "    # 6. Finally, compute ratio:\n",
    "    k_ratios.append(avg_inside / avg_outside)\n",
    "    \n",
    "    # 7. Finally, append to distances:\n",
    "    k_dists.append(avg_inside)\n",
    "    k_dists_total.append(total_inside)\n",
    "\n",
    "print('Done!')"
   ]
  },
  {
   "cell_type": "code",
   "execution_count": 79,
   "metadata": {},
   "outputs": [
    {
     "data": {
      "image/png": "[encoded data removed]",
      "text/plain": [
       "<Figure size 640x480 with 1 Axes>"
      ]
     },
     "metadata": {},
     "output_type": "display_data"
    }
   ],
   "source": [
    "# Plot distance results\n",
    "k_ratio_graph = sns.lineplot(x=k_vals, y=k_dists_total)\n",
    "k_ratio_graph.set(xlabel='K', ylabel='Avg Total Distances', title='Scree Plot')\n",
    "plt.grid()"
   ]
  },
  {
   "cell_type": "code",
   "execution_count": 80,
   "metadata": {},
   "outputs": [
    {
     "data": {
      "image/png": "[encoded data removed]",
      "text/plain": [
       "<Figure size 640x480 with 1 Axes>"
      ]
     },
     "metadata": {},
     "output_type": "display_data"
    }
   ],
   "source": [
    "# Plot ratio results!\n",
    "k_ratio_graph = sns.lineplot(x=k_vals, y=k_ratios)\n",
    "k_ratio_graph.set(xlabel='K', ylabel='Ratio (avg within / avg between)', title='Optimal K Values')\n",
    "plt.grid()"
   ]
  },
  {
   "cell_type": "markdown",
   "metadata": {},
   "source": [
    "**By looking at the scree plot and ratio plot that we have created above, our optimal k values that we can deduce are at k=5 and k=11. We do see additionally significant improvement, from our ratio (avg distance within/avg distance between) from k=11 clusters so this would ideally be a good value to pick for k. This is the k value where no additional margin of ratio decrease is determined by adding additional clustering of the data.** "
   ]
  },
  {
   "cell_type": "code",
   "execution_count": 81,
   "metadata": {},
   "outputs": [
    {
     "name": "stderr",
     "output_type": "stream",
     "text": [
      "c:\\Users\\james\\anaconda3\\envs\\data\\lib\\site-packages\\sklearn\\cluster\\_kmeans.py:1412: FutureWarning: The default value of `n_init` will change from 10 to 'auto' in 1.4. Set the value of `n_init` explicitly to suppress the warning\n",
      "  super()._check_params_vs_input(X, default_n_init=10)\n"
     ]
    }
   ],
   "source": [
    "# Set number of clusters to 10, value selected above\n",
    "n_clusters = 11\n",
    "\n",
    "# Set number of clusters and randomness of clusters for KMeans object \n",
    "kmeans = KMeans(n_clusters = n_clusters, random_state = 0)\n",
    "\n",
    "# Fit\n",
    "kmeans.fit(X)\n",
    "\n",
    "# Predict clusters from kmeans and make new column in scaled DataFrame\n",
    "churn_merged_rescaled['cluster'] = kmeans.predict(X)"
   ]
  },
  {
   "cell_type": "code",
   "execution_count": 82,
   "metadata": {},
   "outputs": [
    {
     "data": {
      "text/plain": [
       "array([[-0.30614203, -0.27065039,  1.64386171],\n",
       "       [ 0.15136279,  0.19198302, -0.61218395],\n",
       "       [15.86028735, 12.95747424, -0.64084474],\n",
       "       [ 3.12670739,  2.11326432, -0.35787695],\n",
       "       [ 7.711824  , 40.4538009 , -0.63504299],\n",
       "       [ 1.04627711,  0.94976752, -0.61594079],\n",
       "       [ 0.67348389,  0.56483601,  1.64386171],\n",
       "       [-0.37320752, -0.32260722, -0.60313429],\n",
       "       [10.02222095,  3.31752008, -0.49263311],\n",
       "       [28.77314447,  6.3519633 , -0.41195691],\n",
       "       [20.03862456, 75.36560039, -0.6416522 ]])"
      ]
     },
     "execution_count": 82,
     "metadata": {},
     "output_type": "execute_result"
    }
   ],
   "source": [
    "kmeans.cluster_centers_"
   ]
  },
  {
   "cell_type": "code",
   "execution_count": 94,
   "metadata": {},
   "outputs": [],
   "source": [
    "# Revert cluster centroids to original scale \n",
    "reverted_cluster_centroids = zscaler.inverse_transform(kmeans.cluster_centers_)\n",
    "cluster_df = pd.DataFrame(reverted_cluster_centroids, columns=which_cols)\n",
    "cluster_df['k_value'] = range(1,12)\n",
    "cluster_df['price/item spent'] = cluster_df['dollar_roll_sum_7D']/cluster_df['quantity_roll_sum_7D']"
   ]
  },
  {
   "cell_type": "markdown",
   "metadata": {},
   "source": [
    "Let's pick 3 clusters at random and describe what makes them different from one another (in terms of their RFM features)."
   ]
  },
  {
   "cell_type": "code",
   "execution_count": 95,
   "metadata": {},
   "outputs": [],
   "source": [
    "clusters = [2, 5, 6]"
   ]
  },
  {
   "cell_type": "code",
   "execution_count": 96,
   "metadata": {},
   "outputs": [
    {
     "data": {
      "text/html": [
       "<div>\n",
       "<style scoped>\n",
       "    .dataframe tbody tr th:only-of-type {\n",
       "        vertical-align: middle;\n",
       "    }\n",
       "\n",
       "    .dataframe tbody tr th {\n",
       "        vertical-align: top;\n",
       "    }\n",
       "\n",
       "    .dataframe thead th {\n",
       "        text-align: right;\n",
       "    }\n",
       "</style>\n",
       "<table border=\"1\" class=\"dataframe\">\n",
       "  <thead>\n",
       "    <tr style=\"text-align: right;\">\n",
       "      <th></th>\n",
       "      <th>dollar_roll_sum_7D</th>\n",
       "      <th>quantity_roll_sum_7D</th>\n",
       "      <th>last_visit_ndays</th>\n",
       "      <th>k_value</th>\n",
       "      <th>price/item spent</th>\n",
       "    </tr>\n",
       "  </thead>\n",
       "  <tbody>\n",
       "    <tr>\n",
       "      <th>1</th>\n",
       "      <td>1548.086157</td>\n",
       "      <td>17.271136</td>\n",
       "      <td>13.884206</td>\n",
       "      <td>2</td>\n",
       "      <td>89.634297</td>\n",
       "    </tr>\n",
       "    <tr>\n",
       "      <th>4</th>\n",
       "      <td>17244.895080</td>\n",
       "      <td>896.543635</td>\n",
       "      <td>3.892634</td>\n",
       "      <td>5</td>\n",
       "      <td>19.234864</td>\n",
       "    </tr>\n",
       "    <tr>\n",
       "      <th>5</th>\n",
       "      <td>3406.081167</td>\n",
       "      <td>33.820292</td>\n",
       "      <td>12.242109</td>\n",
       "      <td>6</td>\n",
       "      <td>100.711171</td>\n",
       "    </tr>\n",
       "  </tbody>\n",
       "</table>\n",
       "</div>"
      ],
      "text/plain": [
       "   dollar_roll_sum_7D  quantity_roll_sum_7D  last_visit_ndays  k_value  \\\n",
       "1         1548.086157             17.271136         13.884206        2   \n",
       "4        17244.895080            896.543635          3.892634        5   \n",
       "5         3406.081167             33.820292         12.242109        6   \n",
       "\n",
       "   price/item spent  \n",
       "1         89.634297  \n",
       "4         19.234864  \n",
       "5        100.711171  "
      ]
     },
     "execution_count": 96,
     "metadata": {},
     "output_type": "execute_result"
    }
   ],
   "source": [
    "cluster_df.loc[cluster_df['k_value'].isin(clusters)]"
   ]
  },
  {
   "cell_type": "markdown",
   "metadata": {},
   "source": [
    "**Cluster A (k-value=2), has a cluster center at ~1500 dollars, quantity of 17 and 13 days since last visit meaning on average they frequently come into the store every two weeks and buy about ~20 items. These seem to be frequent returning customers. Comparing cluster A to cluster C (k-value=6), these customers return as (if not more) frequently than cluster A customers and get twice as many items, spending the same proportional amount per item. They are also frequently returning customers but buy twice as much from the store. Cluster B (k-value = 5) customers are very frequent customers, every 3-4 days. These customers spend roughly 20 dollars more per average on items they buy than do cluster A and cluster C customers but with the more infrequent return of these customers, they are not spending as much throughout the year.** "
   ]
  },
  {
   "cell_type": "code",
   "execution_count": 97,
   "metadata": {},
   "outputs": [
    {
     "data": {
      "text/html": [
       "<div>\n",
       "<style scoped>\n",
       "    .dataframe tbody tr th:only-of-type {\n",
       "        vertical-align: middle;\n",
       "    }\n",
       "\n",
       "    .dataframe tbody tr th {\n",
       "        vertical-align: top;\n",
       "    }\n",
       "\n",
       "    .dataframe thead th {\n",
       "        text-align: right;\n",
       "    }\n",
       "</style>\n",
       "<table border=\"1\" class=\"dataframe\">\n",
       "  <thead>\n",
       "    <tr style=\"text-align: right;\">\n",
       "      <th></th>\n",
       "      <th>dollar_roll_sum_7D</th>\n",
       "      <th>quantity_roll_sum_7D</th>\n",
       "      <th>last_visit_ndays</th>\n",
       "      <th>k_value</th>\n",
       "      <th>price/item spent</th>\n",
       "    </tr>\n",
       "  </thead>\n",
       "  <tbody>\n",
       "    <tr>\n",
       "      <th>0</th>\n",
       "      <td>598.228006</td>\n",
       "      <td>7.167747</td>\n",
       "      <td>999.990305</td>\n",
       "      <td>1</td>\n",
       "      <td>83.461098</td>\n",
       "    </tr>\n",
       "    <tr>\n",
       "      <th>1</th>\n",
       "      <td>1548.086157</td>\n",
       "      <td>17.271136</td>\n",
       "      <td>13.884206</td>\n",
       "      <td>2</td>\n",
       "      <td>89.634297</td>\n",
       "    </tr>\n",
       "    <tr>\n",
       "      <th>2</th>\n",
       "      <td>34162.496882</td>\n",
       "      <td>296.055005</td>\n",
       "      <td>1.356721</td>\n",
       "      <td>3</td>\n",
       "      <td>115.392398</td>\n",
       "    </tr>\n",
       "    <tr>\n",
       "      <th>3</th>\n",
       "      <td>7725.409794</td>\n",
       "      <td>59.229744</td>\n",
       "      <td>125.040505</td>\n",
       "      <td>4</td>\n",
       "      <td>130.431255</td>\n",
       "    </tr>\n",
       "    <tr>\n",
       "      <th>4</th>\n",
       "      <td>17244.895080</td>\n",
       "      <td>896.543635</td>\n",
       "      <td>3.892634</td>\n",
       "      <td>5</td>\n",
       "      <td>19.234864</td>\n",
       "    </tr>\n",
       "    <tr>\n",
       "      <th>5</th>\n",
       "      <td>3406.081167</td>\n",
       "      <td>33.820292</td>\n",
       "      <td>12.242109</td>\n",
       "      <td>6</td>\n",
       "      <td>100.711171</td>\n",
       "    </tr>\n",
       "    <tr>\n",
       "      <th>6</th>\n",
       "      <td>2632.098750</td>\n",
       "      <td>25.413823</td>\n",
       "      <td>999.990305</td>\n",
       "      <td>7</td>\n",
       "      <td>103.569570</td>\n",
       "    </tr>\n",
       "    <tr>\n",
       "      <th>7</th>\n",
       "      <td>458.988599</td>\n",
       "      <td>6.033068</td>\n",
       "      <td>17.839764</td>\n",
       "      <td>8</td>\n",
       "      <td>76.078800</td>\n",
       "    </tr>\n",
       "    <tr>\n",
       "      <th>8</th>\n",
       "      <td>22041.673793</td>\n",
       "      <td>85.529325</td>\n",
       "      <td>66.139269</td>\n",
       "      <td>9</td>\n",
       "      <td>257.708963</td>\n",
       "    </tr>\n",
       "    <tr>\n",
       "      <th>9</th>\n",
       "      <td>60971.793977</td>\n",
       "      <td>151.798128</td>\n",
       "      <td>101.402430</td>\n",
       "      <td>10</td>\n",
       "      <td>401.663674</td>\n",
       "    </tr>\n",
       "    <tr>\n",
       "      <th>10</th>\n",
       "      <td>42837.438658</td>\n",
       "      <td>1658.977792</td>\n",
       "      <td>1.003784</td>\n",
       "      <td>11</td>\n",
       "      <td>25.821587</td>\n",
       "    </tr>\n",
       "  </tbody>\n",
       "</table>\n",
       "</div>"
      ],
      "text/plain": [
       "    dollar_roll_sum_7D  quantity_roll_sum_7D  last_visit_ndays  k_value  \\\n",
       "0           598.228006              7.167747        999.990305        1   \n",
       "1          1548.086157             17.271136         13.884206        2   \n",
       "2         34162.496882            296.055005          1.356721        3   \n",
       "3          7725.409794             59.229744        125.040505        4   \n",
       "4         17244.895080            896.543635          3.892634        5   \n",
       "5          3406.081167             33.820292         12.242109        6   \n",
       "6          2632.098750             25.413823        999.990305        7   \n",
       "7           458.988599              6.033068         17.839764        8   \n",
       "8         22041.673793             85.529325         66.139269        9   \n",
       "9         60971.793977            151.798128        101.402430       10   \n",
       "10        42837.438658           1658.977792          1.003784       11   \n",
       "\n",
       "    price/item spent  \n",
       "0          83.461098  \n",
       "1          89.634297  \n",
       "2         115.392398  \n",
       "3         130.431255  \n",
       "4          19.234864  \n",
       "5         100.711171  \n",
       "6         103.569570  \n",
       "7          76.078800  \n",
       "8         257.708963  \n",
       "9         401.663674  \n",
       "10         25.821587  "
      ]
     },
     "execution_count": 97,
     "metadata": {},
     "output_type": "execute_result"
    }
   ],
   "source": [
    "cluster_df"
   ]
  },
  {
   "cell_type": "code",
   "execution_count": 120,
   "metadata": {},
   "outputs": [
    {
     "name": "stderr",
     "output_type": "stream",
     "text": [
      "c:\\Users\\james\\anaconda3\\envs\\data\\lib\\site-packages\\matplotlib\\text.py:757: FutureWarning: Calling float on a single element Series is deprecated and will raise a TypeError in the future. Use float(ser.iloc[0]) instead\n",
      "  posx = float(self.convert_xunits(self._x))\n",
      "c:\\Users\\james\\anaconda3\\envs\\data\\lib\\site-packages\\matplotlib\\text.py:758: FutureWarning: Calling float on a single element Series is deprecated and will raise a TypeError in the future. Use float(ser.iloc[0]) instead\n",
      "  posy = float(self.convert_yunits(self._y))\n",
      "c:\\Users\\james\\anaconda3\\envs\\data\\lib\\site-packages\\matplotlib\\text.py:897: FutureWarning: Calling float on a single element Series is deprecated and will raise a TypeError in the future. Use float(ser.iloc[0]) instead\n",
      "  x = float(self.convert_xunits(self._x))\n",
      "c:\\Users\\james\\anaconda3\\envs\\data\\lib\\site-packages\\matplotlib\\text.py:898: FutureWarning: Calling float on a single element Series is deprecated and will raise a TypeError in the future. Use float(ser.iloc[0]) instead\n",
      "  y = float(self.convert_yunits(self._y))\n"
     ]
    },
    {
     "data": {
      "image/png": "[encoded data removed]",
      "text/plain": [
       "<Figure size 640x480 with 1 Axes>"
      ]
     },
     "metadata": {},
     "output_type": "display_data"
    }
   ],
   "source": [
    "fig, ax = plt.subplots()\n",
    "ax = sns.scatterplot(cluster_df, x = 'last_visit_ndays', y = 'price/item spent', hue = cluster_df['k_value'].astype('str'))\n",
    "for i, txt in enumerate(cluster_df['k_value']):\n",
    "    ax.text(x = cluster_df.loc[cluster_df['k_value']==txt]['last_visit_ndays'] + 10.0, y = cluster_df.loc[cluster_df['k_value']==txt]['price/item spent'], s = txt,fontsize = 6)\n",
    "plt.title(\"Cluster Analysis in RFM terms\")\n",
    "plt.show()"
   ]
  },
  {
   "cell_type": "markdown",
   "metadata": {},
   "source": [
    "**Cluster 1 (return infrequently, spend very little) -recommendation would likely be not to market to this group but possibly coupon expiration dates so they would return more frequently.**\n",
    "\n",
    "**Cluster 2 (return frequently, spend fairly) -frequency punch card discounts so they come into the store to spend more frequently.**\n",
    "\n",
    "**Cluster 3 (return frequently, spend fairly) -coupon expiration dates so they would return more frequently.**\n",
    "\n",
    "**Cluster 4 (return frequently, spend fairly) -frequency punch card discounts so they come into the store to spend more frequently.**\n",
    "\n",
    "**Cluster 5 (return frequently, low price/item spent--second highest quantity) -Yearly discount if customer purchases certain amount above current expenditure, discuss bulk purchases for items, incentive for bulk purchases instead of everyday purchases.**\n",
    "\n",
    "**Cluster 6 (return frequently, spend fairly) -coupon expiration dates so they would return more frequently.**\n",
    "\n",
    "**Cluster 7 (return infrequently, spend very little) -recommendation would likely be not to market to this group but possibly coupon expiration dates so they would return more frequently.**\n",
    "\n",
    "**Cluster 8 (return frequently, spend fairly) -coupon expiration dates so they would return more frequently, quantity discounts if they purchase certain amount of items.**\n",
    "\n",
    "**Cluster 9 (return every two months, one of highest price/item spent)-Quantity discounts- Buy more than N items and get percentage off. They purchase, high margin items, discuss with them other inventory with quantity discount.**\n",
    "\n",
    "**Cluster 10 (return every 100 days, highest price/item spent) Quantity discounts- Buy more than N items and get percentage off. They purchase, high margin items, discuss with them other inventory with quantity discount.**\n",
    "\n",
    "**Cluster 11 (return everyday, low price/item spent--highest quantity) -Yearly discount if customer purchases certain amount above current expenditure, discuss bulk purchases for items, incentive for bulk purchases instead of everyday purchases.**"
   ]
  },
  {
   "cell_type": "markdown",
   "metadata": {},
   "source": [
    "### Results and Conclusions.\n",
    "\n",
    "From performing the k-means clustering of our data, we were able to identify the ideal value of k to be 11 clusters. This was determined by using a scree plot and ratio plot to find where the ratio and avg sum of squares distance showed no proportional decrease in the cluster distances by adding more cluster groups into the data. After evaluating the optimal k-value, we looked within each of these clusters of the k-means model and described which type of customers that each of these groups are belonging to frequent customers (clusters 2, 3, 5, 6, 8, 11), high quantity purchasers (cluster 3, 5, 11), highest spenders (clusters 3, 10, 11). Finally, based on these cluster descriptions, we proprosed how a marketing could use coupons to increase each groups RFM values.   "
   ]
  },
  {
   "cell_type": "markdown",
   "metadata": {},
   "source": [
    "### Citations\n",
    "\n",
    "1. 2022-April, Nick McClure, Lesson 8 presentation from DS510 in UW-PCE class.\n",
    "2. https://pandas.pydata.org/docs/index.html"
   ]
  }
 ],
 "metadata": {
  "kernelspec": {
   "display_name": "Python 3 (ipykernel)",
   "language": "python",
   "name": "python3"
  },
  "language_info": {
   "codemirror_mode": {
    "name": "ipython",
    "version": 3
   },
   "file_extension": ".py",
   "mimetype": "text/x-python",
   "name": "python",
   "nbconvert_exporter": "python",
   "pygments_lexer": "ipython3",
   "version": "3.9.15"
  }
 },
 "nbformat": 4,
 "nbformat_minor": 4
}
